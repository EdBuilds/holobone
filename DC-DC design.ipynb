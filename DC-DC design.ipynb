{
 "cells": [
  {
   "cell_type": "code",
   "execution_count": 46,
   "metadata": {},
   "outputs": [
    {
     "name": "stdout",
     "output_type": "stream",
     "text": [
      "Cout = 1.5957446808510638 microfarad\n",
      "100.0 kilohertz\n",
      "Rc = 10692.0 ohm\n",
      "Cc = 1.1 nanofarad\n",
      "0.003407206\n"
     ]
    }
   ],
   "source": [
    "import pint\n",
    "from math import pi\n",
    "unit = pint.UnitRegistry()\n",
    "Fsw = 500 * unit.kilohertz\n",
    "Iout = 1 * unit.ampere\n",
    "Ioutmax = 1 * unit.ampere\n",
    "Vout = 5 * unit.volt\n",
    "deltaVout = Vout * 0.01\n",
    "Vref = 0.8 * unit.volt\n",
    "Cin = 3.3 * unit.microfarad\n",
    "deltaImax = Ioutmax * 0.3\n",
    "ESR = 10 * unit.milliohm\n",
    "Cout = deltaImax / (8 * Fsw * (deltaVout - ESR * deltaImax))\n",
    "print (f\"Cout = {Cout.to(unit.microfarad)}\")\n",
    "Cout = 2.2 * unit.microfarad\n",
    "Gm = 250 * unit.microsiemens\n",
    "Fbw = Fsw / 5\n",
    "Ri = 0.3 * unit.ohm\n",
    "print (Fbw)\n",
    "Rc = 2 * 3.24 * Fbw * Vout * Cout * Ri / (Gm * Vref)\n",
    "print (f\"Rc = {Rc.to(unit.ohm)}\")\n",
    "Rc = 10 * unit.kiloohm\n",
    "Rload = Vout / Iout\n",
    "Cc = Rload * Cout / Rc\n",
    "print (f\"Cc = {Cc.to(unit.nanofarad)}\")\n",
    "Cc = 1 * unit.microfarad\n",
    "Tss = 154873 * 22 /1000/1000/1000\n",
    "print(Tss)"
   ]
  },
  {
   "cell_type": "code",
   "execution_count": null,
   "metadata": {},
   "outputs": [],
   "source": []
  },
  {
   "cell_type": "code",
   "execution_count": null,
   "metadata": {},
   "outputs": [],
   "source": []
  }
 ],
 "metadata": {
  "kernelspec": {
   "display_name": "Python 3",
   "language": "python",
   "name": "python3"
  },
  "language_info": {
   "codemirror_mode": {
    "name": "ipython",
    "version": 3
   },
   "file_extension": ".py",
   "mimetype": "text/x-python",
   "name": "python",
   "nbconvert_exporter": "python",
   "pygments_lexer": "ipython3",
   "version": "3.6.9"
  }
 },
 "nbformat": 4,
 "nbformat_minor": 4
}
